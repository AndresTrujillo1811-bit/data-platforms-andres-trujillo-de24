{
 "cells": [
  {
   "cell_type": "markdown",
   "metadata": {},
   "source": [
    "# EDA cryptocurrencies API"
   ]
  },
  {
   "cell_type": "code",
   "execution_count": 1,
   "metadata": {},
   "outputs": [
    {
     "data": {
      "text/plain": [
       "{'status': {'timestamp': '2025-08-04T10:44:55.189Z',\n",
       "  'error_code': 0,\n",
       "  'error_message': None,\n",
       "  'elapsed': 24,\n",
       "  'credit_count': 1,\n",
       "  'notice': None},\n",
       " 'data': {'ETH': {'id': 1027,\n",
       "   'name': 'Ethereum',\n",
       "   'symbol': 'ETH',\n",
       "   'slug': 'ethereum',\n",
       "   'num_market_pairs': 10425,\n",
       "   'date_added': '2015-08-07T00:00:00.000Z',\n",
       "   'tags': ['pos',\n",
       "    'smart-contracts',\n",
       "    'ethereum-ecosystem',\n",
       "    'coinbase-ventures-portfolio',\n",
       "    'three-arrows-capital-portfolio',\n",
       "    'polychain-capital-portfolio',\n",
       "    'binance-labs-portfolio',\n",
       "    'blockchain-capital-portfolio',\n",
       "    'boostvc-portfolio',\n",
       "    'cms-holdings-portfolio',\n",
       "    'dcg-portfolio',\n",
       "    'dragonfly-capital-portfolio',\n",
       "    'electric-capital-portfolio',\n",
       "    'fabric-ventures-portfolio',\n",
       "    'framework-ventures-portfolio',\n",
       "    'hashkey-capital-portfolio',\n",
       "    'kenetic-capital-portfolio',\n",
       "    'huobi-capital-portfolio',\n",
       "    'alameda-research-portfolio',\n",
       "    'a16z-portfolio',\n",
       "    '1confirmation-portfolio',\n",
       "    'winklevoss-capital-portfolio',\n",
       "    'usv-portfolio',\n",
       "    'placeholder-ventures-portfolio',\n",
       "    'pantera-capital-portfolio',\n",
       "    'multicoin-capital-portfolio',\n",
       "    'paradigm-portfolio',\n",
       "    'ethereum-pow-ecosystem',\n",
       "    'layer-1',\n",
       "    'ftx-bankruptcy-estate',\n",
       "    'sora-ecosystem',\n",
       "    'rsk-rbtc-ecosystem',\n",
       "    'world-liberty-financial-portfolio',\n",
       "    'us-strategic-crypto-reserve',\n",
       "    'binance-ecosystem',\n",
       "    'binance-listing'],\n",
       "   'max_supply': None,\n",
       "   'circulating_supply': 120709612.1470168,\n",
       "   'total_supply': 120709612.1470168,\n",
       "   'is_active': 1,\n",
       "   'infinite_supply': True,\n",
       "   'platform': None,\n",
       "   'cmc_rank': 2,\n",
       "   'is_fiat': 0,\n",
       "   'self_reported_circulating_supply': None,\n",
       "   'self_reported_market_cap': None,\n",
       "   'tvl_ratio': None,\n",
       "   'last_updated': '2025-08-04T10:44:00.000Z',\n",
       "   'quote': {'SEK': {'price': 34424.14505781454,\n",
       "     'volume_24h': 216700132787.89572,\n",
       "     'volume_change_24h': -21.0819,\n",
       "     'percent_change_1h': 0.06754054,\n",
       "     'percent_change_24h': 2.34166459,\n",
       "     'percent_change_7d': -8.39751674,\n",
       "     'percent_change_30d': 41.1286368,\n",
       "     'percent_change_60d': 37.21666977,\n",
       "     'percent_change_90d': 98.55109736,\n",
       "     'market_cap': 4155325198421.438,\n",
       "     'market_cap_dominance': 11.536,\n",
       "     'fully_diluted_market_cap': 4155325198421.4062,\n",
       "     'tvl': None,\n",
       "     'last_updated': '2025-08-04T10:43:01.000Z'}}}}}"
      ]
     },
     "execution_count": 1,
     "metadata": {},
     "output_type": "execute_result"
    }
   ],
   "source": [
    "from requests import Request, Session\n",
    "from requests.exceptions import ConnectionError, Timeout, TooManyRedirects\n",
    "import json\n",
    "import os \n",
    "from dotenv import load_dotenv\n",
    "\n",
    "load_dotenv()\n",
    "\n",
    "API_KEY = os.getenv(\"COINMARKET_API\")\n",
    "\n",
    "API_URL = \"https://pro-api.coinmarketcap.com/v1/cryptocurrency/quotes/latest\"\n",
    "\n",
    "target_symbol = \"ETH\"\n",
    "\n",
    "parameters = {\n",
    "  'symbol': target_symbol,\n",
    "  'convert':'SEK'\n",
    "}\n",
    "\n",
    "headers = {\n",
    "  'Accepts': 'application/json',\n",
    "  'X-CMC_PRO_API_KEY': API_KEY,\n",
    "}\n",
    "\n",
    "session = Session()\n",
    "session.headers.update(headers)\n",
    "\n",
    "try:\n",
    "  response = session.get(API_URL, params=parameters)\n",
    "  data = json.loads(response.text)\n",
    "except (ConnectionError, Timeout, TooManyRedirects) as e:\n",
    "  print(e)\n",
    "  \n",
    "data  \n",
    "\n"
   ]
  },
  {
   "cell_type": "code",
   "execution_count": 2,
   "metadata": {},
   "outputs": [
    {
     "data": {
      "text/plain": [
       "dict_keys(['status', 'data'])"
      ]
     },
     "execution_count": 2,
     "metadata": {},
     "output_type": "execute_result"
    }
   ],
   "source": [
    "data.keys()"
   ]
  },
  {
   "cell_type": "code",
   "execution_count": 3,
   "metadata": {},
   "outputs": [
    {
     "data": {
      "text/plain": [
       "dict_keys(['ETH'])"
      ]
     },
     "execution_count": 3,
     "metadata": {},
     "output_type": "execute_result"
    }
   ],
   "source": [
    "data['data'].keys()"
   ]
  },
  {
   "cell_type": "code",
   "execution_count": 4,
   "metadata": {},
   "outputs": [
    {
     "data": {
      "text/plain": [
       "dict_keys(['id', 'name', 'symbol', 'slug', 'num_market_pairs', 'date_added', 'tags', 'max_supply', 'circulating_supply', 'total_supply', 'is_active', 'infinite_supply', 'platform', 'cmc_rank', 'is_fiat', 'self_reported_circulating_supply', 'self_reported_market_cap', 'tvl_ratio', 'last_updated', 'quote'])"
      ]
     },
     "execution_count": 4,
     "metadata": {},
     "output_type": "execute_result"
    }
   ],
   "source": [
    "coin_data = data[\"data\"][\"ETH\"]\n",
    "coin_data.keys()"
   ]
  },
  {
   "cell_type": "code",
   "execution_count": 5,
   "metadata": {},
   "outputs": [
    {
     "data": {
      "text/plain": [
       "('Ethereum',\n",
       " 'ETH',\n",
       " {'SEK': {'price': 34424.14505781454,\n",
       "   'volume_24h': 216700132787.89572,\n",
       "   'volume_change_24h': -21.0819,\n",
       "   'percent_change_1h': 0.06754054,\n",
       "   'percent_change_24h': 2.34166459,\n",
       "   'percent_change_7d': -8.39751674,\n",
       "   'percent_change_30d': 41.1286368,\n",
       "   'percent_change_60d': 37.21666977,\n",
       "   'percent_change_90d': 98.55109736,\n",
       "   'market_cap': 4155325198421.438,\n",
       "   'market_cap_dominance': 11.536,\n",
       "   'fully_diluted_market_cap': 4155325198421.4062,\n",
       "   'tvl': None,\n",
       "   'last_updated': '2025-08-04T10:43:01.000Z'}})"
      ]
     },
     "execution_count": 5,
     "metadata": {},
     "output_type": "execute_result"
    }
   ],
   "source": [
    "coin_data[\"name\"], coin_data[\"symbol\"], coin_data[\"quote\"]"
   ]
  },
  {
   "cell_type": "code",
   "execution_count": 6,
   "metadata": {},
   "outputs": [
    {
     "data": {
      "text/plain": [
       "{'price': 34424.14505781454,\n",
       " 'volume_24h': 216700132787.89572,\n",
       " 'volume_change_24h': -21.0819,\n",
       " 'percent_change_1h': 0.06754054,\n",
       " 'percent_change_24h': 2.34166459,\n",
       " 'percent_change_7d': -8.39751674,\n",
       " 'percent_change_30d': 41.1286368,\n",
       " 'percent_change_60d': 37.21666977,\n",
       " 'percent_change_90d': 98.55109736,\n",
       " 'market_cap': 4155325198421.438,\n",
       " 'market_cap_dominance': 11.536,\n",
       " 'fully_diluted_market_cap': 4155325198421.4062,\n",
       " 'tvl': None,\n",
       " 'last_updated': '2025-08-04T10:43:01.000Z'}"
      ]
     },
     "execution_count": 6,
     "metadata": {},
     "output_type": "execute_result"
    }
   ],
   "source": [
    "quote = coin_data[\"quote\"][\"SEK\"]\n",
    "quote"
   ]
  },
  {
   "cell_type": "code",
   "execution_count": 7,
   "metadata": {},
   "outputs": [
    {
     "data": {
      "text/plain": [
       "(34424.14505781454, 216700132787.89572, '2025-08-04T10:43:01.000Z')"
      ]
     },
     "execution_count": 7,
     "metadata": {},
     "output_type": "execute_result"
    }
   ],
   "source": [
    "quote[\"price\"], quote[\"volume_24h\"], quote[\"last_updated\"]"
   ]
  }
 ],
 "metadata": {
  "kernelspec": {
   "display_name": "data-platforms-andres-trujillo-de24",
   "language": "python",
   "name": "python3"
  },
  "language_info": {
   "codemirror_mode": {
    "name": "ipython",
    "version": 3
   },
   "file_extension": ".py",
   "mimetype": "text/x-python",
   "name": "python",
   "nbconvert_exporter": "python",
   "pygments_lexer": "ipython3",
   "version": "3.12.5"
  }
 },
 "nbformat": 4,
 "nbformat_minor": 2
}
