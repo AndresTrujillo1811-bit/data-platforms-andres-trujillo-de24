{
 "cells": [
  {
   "cell_type": "markdown",
   "metadata": {},
   "source": [
    "# Exercise 0"
   ]
  },
  {
   "cell_type": "code",
   "execution_count": 1,
   "metadata": {},
   "outputs": [
    {
     "name": "stdout",
     "output_type": "stream",
     "text": [
      "Source:  exists\n",
      "Destination:  exists\n"
     ]
    }
   ],
   "source": [
    "#0. User input for ETL Parameters\n",
    "\n",
    "# Ask the user for 2 inputs:\n",
    "\n",
    "# source file path\n",
    "# destination file path\n",
    "\n",
    "from pathlib import Path\n",
    "\n",
    "input_source = input(\"Source directory: \")\n",
    "input_destination = input(\"Source destination: \")\n",
    "\n",
    "print(f\"Source: {input_source} {\"exists\" if Path(input_source).exists() else '*does not exists'}\")\n",
    "print(f\"Destination: {input_source} {\"exists\" if Path(input_destination).exists() else '*does not exists'}\")"
   ]
  },
  {
   "cell_type": "code",
   "execution_count": 1,
   "metadata": {},
   "outputs": [
    {
     "name": "stdout",
     "output_type": "stream",
     "text": [
      "{'id': 101, 'name': 'Erika', 'is_active': True, 'age': 45}\n"
     ]
    }
   ],
   "source": [
    "#1. Schema validation\n",
    "\n",
    "# a) Create a dictionary that look like this.\n",
    "\n",
    "#Key\tValue\n",
    "#id\t101\n",
    "#name\tErika\n",
    "#is_active\tTrue\n",
    "#age\t45\n",
    "\n",
    "user_data = {\n",
    "    \"id\": 101,\n",
    "    \"name\": \"Erika\",\n",
    "    \"is_active\": True,\n",
    "    \"age\": 45         \n",
    "             \n",
    "    }\n",
    "\n",
    "print(user_data)"
   ]
  },
  {
   "cell_type": "code",
   "execution_count": 37,
   "metadata": {},
   "outputs": [
    {
     "name": "stdout",
     "output_type": "stream",
     "text": [
      "(True, True, True, True)\n"
     ]
    }
   ],
   "source": [
    "# b) Validate that the id is integer, name is string, is_active is boolean and age is integer. It should return true if valid and false if not valid.\n",
    "\n",
    "def validate_id(user_data):\n",
    "    return True if user_data[\"id\"] == int(101) else False\n",
    "\n",
    "def validate_name(user_data):\n",
    "    return True if user_data[\"name\"] == str(\"Erika\") else False\n",
    "\n",
    "def user_active(user_data):\n",
    "    return True if user_data[\"is_active\"] == bool(True) else False\n",
    "\n",
    "def validate_age(user_data):\n",
    "    return True if user_data[\"age\"] == int(45) else False\n",
    "    \n",
    "    \n",
    "    \n",
    "    \n",
    "    \n",
    "valid_data = validate_id(user_data), validate_name(user_data), user_active(user_data), validate_age(user_data)\n",
    "print(valid_data)"
   ]
  },
  {
   "cell_type": "code",
   "execution_count": 1,
   "metadata": {},
   "outputs": [],
   "source": [
    "# c, d) The dictionary created can be seen as one row, now lets create more records and store each record (dictionary) in a list. Do schema validation on the JSON array in c)\n",
    "\n",
    "# id\tname\tis_active\tage\n",
    "# 102\tMarcus\tTrue\t34\n",
    "# 103\tDavid\tFalse\t29\n",
    "# 104\tAnna\tTrue\t41.5\n",
    "# 106\tIngrid\tNOPE\t8\n",
    "# Note that this list of dictionary is also a JSON array of objects.\n",
    "\n",
    "users = [ \n",
    "    {\"id\": 102, \"name\": \"Marcus\", \"is_active\": True, \"age\": 34},\n",
    "    {\"id\": 103, \"name\": \"David\", \"is_active\": False, \"age\": 29},\n",
    "    {\"id\": 104, \"name\": \"Anna\", \"is_active\": True, \"age\": 41.5},\n",
    "    {\"id\": 106, \"name\": \"Ingrid\", \"is_active\": \"NOPE\", \"age\": 8},  \n",
    "]\n",
    "\n",
    "def validate_schema(data: list[dict]):\n",
    "    if user_data(data, dict):\n",
    "        data = [data]\n",
    "     \n",
    "    row_issues = {} \n",
    "    for i, row in enumerate(data):\n",
    "        validate_rows = {\n",
    "            \"id\": user_data[\"id\"],\n",
    "            \"name\": user_data[\"name\"],\n",
    "            \"is_active\": user_data[\"is_active\"],\n",
    "            \"age\": user_data[\"age\"]\n",
    "        }\n",
    "        \n",
    "       \n",
    "            \n",
    "    return row_issues if row_issues else {}    \n",
    "        \n"
   ]
  }
 ],
 "metadata": {
  "kernelspec": {
   "display_name": ".venv",
   "language": "python",
   "name": "python3"
  },
  "language_info": {
   "codemirror_mode": {
    "name": "ipython",
    "version": 3
   },
   "file_extension": ".py",
   "mimetype": "text/x-python",
   "name": "python",
   "nbconvert_exporter": "python",
   "pygments_lexer": "ipython3",
   "version": "3.12.5"
  }
 },
 "nbformat": 4,
 "nbformat_minor": 2
}
