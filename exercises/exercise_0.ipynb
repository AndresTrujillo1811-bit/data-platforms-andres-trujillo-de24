{
 "cells": [
  {
   "cell_type": "markdown",
   "metadata": {},
   "source": [
    "# Exercise 0"
   ]
  },
  {
   "cell_type": "code",
   "execution_count": 2,
   "metadata": {},
   "outputs": [
    {
     "name": "stdout",
     "output_type": "stream",
     "text": [
      "source: Users/andre/Documents/github/data-platforms-andres-trujillo-de24/exercises/input_data.csv\n",
      "destination Users/andre/Documents/github/data-platforms-andres-trujillo-de24/exercises/output_data.csv\n"
     ]
    }
   ],
   "source": [
    "#0. User input for ETL Parameters\n",
    "\n",
    "# Ask the user for 2 inputs:\n",
    "\n",
    "# source file path\n",
    "# destination file path\n",
    "\n",
    "source_path =  input(\"Enter the source path: \")\n",
    "destination_path = input(\"Enter the destination path: \")\n",
    "\n",
    "# Users/andre/Documents/github/data-platforms-andres-trujillo-de24/exercises/input_data.csv\n",
    "# Users/andre/Documents/github/data-platforms-andres-trujillo-de24/exercises/output_data.csv\n",
    "\n",
    "print(f\"source: {source_path}\")\n",
    "print(f\"destination {destination_path}\")"
   ]
  },
  {
   "cell_type": "markdown",
   "metadata": {},
   "source": [
    "# 1. Schema validation"
   ]
  },
  {
   "cell_type": "code",
   "execution_count": 3,
   "metadata": {},
   "outputs": [
    {
     "data": {
      "text/plain": [
       "{'id': 101, 'name': 'Erika', 'is_active': True, 'age': 45}"
      ]
     },
     "execution_count": 3,
     "metadata": {},
     "output_type": "execute_result"
    }
   ],
   "source": [
    "\n",
    "# a) Create a dictionary that look like this.\n",
    "\n",
    "#Key\tValue\n",
    "#id\t101\n",
    "#name\tErika\n",
    "#is_active\tTrue\n",
    "#age\t45\n",
    "\n",
    "user_data = {\n",
    "    \"id\": 101,\n",
    "    \"name\": \"Erika\",\n",
    "    \"is_active\": True,\n",
    "    \"age\": 45\n",
    "}        \n",
    "             \n",
    "user_data    \n",
    "\n"
   ]
  },
  {
   "cell_type": "code",
   "execution_count": 4,
   "metadata": {},
   "outputs": [
    {
     "data": {
      "text/plain": [
       "dict_keys(['id', 'name', 'is_active', 'age'])"
      ]
     },
     "execution_count": 4,
     "metadata": {},
     "output_type": "execute_result"
    }
   ],
   "source": [
    "# b) Validate that the id is integer, name is string, is_active is boolean and age is integer. \n",
    "# It should return true if valid and false if not valid.\n",
    "\n",
    "schema = {\"id\": int, \"name\": str, \"is_active\": bool, \"age\": int}\n",
    "schema.keys()\n"
   ]
  },
  {
   "cell_type": "code",
   "execution_count": 5,
   "metadata": {},
   "outputs": [
    {
     "data": {
      "text/plain": [
       "(101, int, True, bool, str, int)"
      ]
     },
     "execution_count": 5,
     "metadata": {},
     "output_type": "execute_result"
    }
   ],
   "source": [
    "user_data[\"id\"], schema[\"id\"], user_data[\"is_active\"], schema[\"is_active\"], schema[\"name\"], schema[\"age\"]\n",
    "   \n",
    "        \n"
   ]
  },
  {
   "cell_type": "code",
   "execution_count": 6,
   "metadata": {},
   "outputs": [
    {
     "data": {
      "text/plain": [
       "(True, False)"
      ]
     },
     "execution_count": 6,
     "metadata": {},
     "output_type": "execute_result"
    }
   ],
   "source": [
    "type(user_data[\"id\"]) == schema[\"id\"], type(user_data[\"id\"]) == schema[\"is_active\"]"
   ]
  },
  {
   "cell_type": "markdown",
   "metadata": {},
   "source": [
    "# 2. Data quality check"
   ]
  },
  {
   "cell_type": "code",
   "execution_count": 28,
   "metadata": {},
   "outputs": [
    {
     "data": {
      "text/plain": [
       "[0, 1, 2, 3, 4, 5, 6, 7, 8, 9]"
      ]
     },
     "execution_count": 28,
     "metadata": {},
     "output_type": "execute_result"
    }
   ],
   "source": [
    "# Create a function that checks a list that it contains exactly ten elements, and none of them contains None. \n",
    "# If they contain None, print out an error message that says that it is invalid and print out what a valid format should be.\n",
    "\n",
    "example_list = list(range(10))\n",
    "example_list_none = list(range(9)) + [None] \n",
    "example_list_large = list(range(2910))\n",
    "example_list"
   ]
  },
  {
   "cell_type": "code",
   "execution_count": 26,
   "metadata": {},
   "outputs": [
    {
     "data": {
      "text/plain": [
       "[0, 1, 2, 3, 4, 5, 6, 7, 8, None]"
      ]
     },
     "execution_count": 26,
     "metadata": {},
     "output_type": "execute_result"
    }
   ],
   "source": [
    "example_list_none"
   ]
  },
  {
   "cell_type": "code",
   "execution_count": 30,
   "metadata": {},
   "outputs": [
    {
     "data": {
      "text/plain": [
       "True"
      ]
     },
     "execution_count": 30,
     "metadata": {},
     "output_type": "execute_result"
    }
   ],
   "source": [
    "len(example_list) == 10"
   ]
  },
  {
   "cell_type": "code",
   "execution_count": 32,
   "metadata": {},
   "outputs": [
    {
     "data": {
      "text/plain": [
       "(False, True)"
      ]
     },
     "execution_count": 32,
     "metadata": {},
     "output_type": "execute_result"
    }
   ],
   "source": [
    "None in example_list, None in example_list_none"
   ]
  },
  {
   "cell_type": "code",
   "execution_count": 34,
   "metadata": {},
   "outputs": [
    {
     "name": "stdout",
     "output_type": "stream",
     "text": [
      "woho\n"
     ]
    }
   ],
   "source": [
    "#Copying code\n",
    "\n",
    "if len(example_list) == 10 and None not in example_list:\n",
    "    print(\"woho\")\n",
    "    \n",
    "if len(example_list_none) == 10 and None not in example_list_none:\n",
    "    print(\"woho\")    \n",
    "    \n",
    "if len(example_list_large) == 10 and None not in example_list_large:\n",
    "    print(\"woho\")    "
   ]
  },
  {
   "cell_type": "code",
   "execution_count": 36,
   "metadata": {},
   "outputs": [
    {
     "name": "stdout",
     "output_type": "stream",
     "text": [
      "Your list contains no Nones and have length 10\n"
     ]
    }
   ],
   "source": [
    "\n",
    "def quality_check(list_):\n",
    "    if len(list_) != 10 or None in example_list:\n",
    "        raise ValueError(\n",
    "            f\"\"\"\n",
    "            Your list must have 10 elements and not certain None\"\n",
    "            Length of your list was {len(list_)}. None in list: {None in list_}\n",
    "                        \"\"\"\n",
    "        )\n",
    "        \n",
    "    print(\"Your list contains no Nones and have length 10\")\n",
    "    \n",
    "try:\n",
    "    quality_check(example_list_none)\n",
    "except ValueError as err:\n",
    "    print(err)            "
   ]
  }
 ],
 "metadata": {
  "kernelspec": {
   "display_name": ".venv",
   "language": "python",
   "name": "python3"
  },
  "language_info": {
   "codemirror_mode": {
    "name": "ipython",
    "version": 3
   },
   "file_extension": ".py",
   "mimetype": "text/x-python",
   "name": "python",
   "nbconvert_exporter": "python",
   "pygments_lexer": "ipython3",
   "version": "3.12.5"
  }
 },
 "nbformat": 4,
 "nbformat_minor": 2
}
